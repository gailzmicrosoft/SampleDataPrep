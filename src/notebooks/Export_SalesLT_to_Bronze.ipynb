{
 "cells": [
  {
   "cell_type": "code",
   "execution_count": null,
   "id": "287bb05d",
   "metadata": {},
   "outputs": [
    {
     "name": "stdout",
     "output_type": "stream",
     "text": [
      "Python version: 3.11.9 (tags/v3.11.9:de54cf5, Apr  2 2024, 10:12:12) [MSC v.1938 64 bit (AMD64)]\n",
      "Virtual environment: c:\\Repos\\Code\\SampleDataPrep\\.venv\n",
      "✅ Kernel is working correctly!\n"
     ]
    }
   ],
   "source": [
    "# Simple test to verify kernel is working\n",
    "import sys\n",
    "print(f\"Python version: {sys.version}\")\n",
    "print(f\"Virtual environment: {sys.prefix}\")\n",
    "print(\"✅ Kernel is working correctly!\")"
   ]
  },
  {
   "cell_type": "markdown",
   "id": "439ee12f",
   "metadata": {},
   "source": [
    "# Bronze to Silver Schema Analysis\n",
    "\n",
    "**Objective**: Analyze and map SalesLT bronze layer structure to retail silver layer data model\n",
    "\n",
    "**Architecture**:\n",
    "- **Source**: RDS_Fabric_Foundry_workspace_Gaiye_Retail_Solution_Test_IDM_LH_bronze (10 SalesLT tables)\n",
    "- **Target**: RDS_Fabric_Foundry_workspace_Gaiye_Retail_Solution_Test_LH_silver (50+ retail model tables)\n",
    "- **Execution Context**: Run in silver lakehouse to access both bronze (via shortcut) and silver structures\n",
    "\n",
    "**Key Challenge**: Transform 10 normalized SalesLT tables into 50+ retail model with main entities: order, customer, brandProduct + ID tables\n",
    "\n",
    "**Workflow**:\n",
    "1. **Schema Discovery** - Analyze bronze and silver structures\n",
    "2. **Mapping Analysis** - Identify transformation requirements\n",
    "3. **Gap Identification** - Document missing data and transformation needs\n",
    "4. **Transformation Planning** - Create implementation roadmap"
   ]
  },
  {
   "cell_type": "markdown",
   "id": "cc942d60",
   "metadata": {},
   "source": [
    "## Step 1: Environment Setup"
   ]
  },
  {
   "cell_type": "code",
   "execution_count": 5,
   "id": "f5feac3f",
   "metadata": {},
   "outputs": [
    {
     "name": "stdout",
     "output_type": "stream",
     "text": [
      "🐍 Python executable: c:\\Repos\\Code\\SampleDataPrep\\.venv\\Scripts\\python.exe\n",
      "📦 Python path: C:\\Users\\gazho\\AppData\\Local\\Programs\\Python\\Python311\\python311.zip\n",
      "❌ Pandas import failed: No module named 'pandas'\n",
      "🔧 Solution: Select correct Python interpreter\n",
      "   1. Press Ctrl+Shift+P\n",
      "   2. Type: Python: Select Interpreter\n",
      "   3. Choose: src\\.venv\\Scripts\\python.exe\n"
     ]
    }
   ],
   "source": [
    "# Verify Python interpreter and installed packages\n",
    "import sys\n",
    "print(f\"🐍 Python executable: {sys.executable}\")\n",
    "print(f\"📦 Python path: {sys.path[0]}\")\n",
    "\n",
    "# Test if we can import our packages\n",
    "try:\n",
    "    import pandas as pd\n",
    "    print(f\"✅ Pandas {pd.__version__} imported successfully\")\n",
    "except ImportError as e:\n",
    "    print(f\"❌ Pandas import failed: {e}\")\n",
    "    print(\"🔧 Solution: Select correct Python interpreter\")\n",
    "    print(\"   1. Press Ctrl+Shift+P\")\n",
    "    print(\"   2. Type: Python: Select Interpreter\")\n",
    "    print(\"   3. Choose: src\\\\.venv\\\\Scripts\\\\python.exe\")"
   ]
  },
  {
   "cell_type": "code",
   "execution_count": 4,
   "id": "2ae5e1df",
   "metadata": {},
   "outputs": [
    {
     "ename": "ModuleNotFoundError",
     "evalue": "No module named 'pandas'",
     "output_type": "error",
     "traceback": [
      "\u001b[31m---------------------------------------------------------------------------\u001b[39m",
      "\u001b[31mModuleNotFoundError\u001b[39m                       Traceback (most recent call last)",
      "\u001b[36mCell\u001b[39m\u001b[36m \u001b[39m\u001b[32mIn[4]\u001b[39m\u001b[32m, line 2\u001b[39m\n\u001b[32m      1\u001b[39m \u001b[38;5;66;03m# Import required libraries\u001b[39;00m\n\u001b[32m----> \u001b[39m\u001b[32m2\u001b[39m \u001b[38;5;28;01mimport\u001b[39;00m\u001b[38;5;250m \u001b[39m\u001b[34;01mpandas\u001b[39;00m\u001b[38;5;250m \u001b[39m\u001b[38;5;28;01mas\u001b[39;00m\u001b[38;5;250m \u001b[39m\u001b[34;01mpd\u001b[39;00m\n\u001b[32m      3\u001b[39m \u001b[38;5;28;01mfrom\u001b[39;00m\u001b[38;5;250m \u001b[39m\u001b[34;01mdatetime\u001b[39;00m\u001b[38;5;250m \u001b[39m\u001b[38;5;28;01mimport\u001b[39;00m datetime\n\u001b[32m      4\u001b[39m \u001b[38;5;28;01mfrom\u001b[39;00m\u001b[38;5;250m \u001b[39m\u001b[34;01mpyspark\u001b[39;00m\u001b[34;01m.\u001b[39;00m\u001b[34;01msql\u001b[39;00m\u001b[34;01m.\u001b[39;00m\u001b[34;01mfunctions\u001b[39;00m\u001b[38;5;250m \u001b[39m\u001b[38;5;28;01mimport\u001b[39;00m *\n",
      "\u001b[31mModuleNotFoundError\u001b[39m: No module named 'pandas'"
     ]
    }
   ],
   "source": [
    "# Import required libraries\n",
    "import pandas as pd\n",
    "from datetime import datetime\n",
    "from pyspark.sql.functions import *\n",
    "from pyspark.sql.types import *\n",
    "\n",
    "# Configuration\n",
    "BRONZE_DATABASE = \"RDS_Fabric_Foundry_workspace_Gaiye_Retail_Solution_Test_IDM_LH_bronze\"\n",
    "SILVER_TARGET_PATH = \"Files/Retail/\"\n",
    "SOURCE_SYSTEM = \"SalesLT_to_Retail\"\n",
    "LOAD_TIMESTAMP = datetime.now().isoformat()\n",
    "LOAD_DATE = datetime.now().strftime(\"%Y-%m-%d\")\n",
    "\n",
    "# Expected bronze tables (SalesLT)\n",
    "BRONZE_TABLES = [\n",
    "    'bronze_address', 'bronze_customer', 'bronze_customeraddress', \n",
    "    'bronze_product', 'bronze_productcategory', 'bronze_productdescription', \n",
    "    'bronze_productmodel', 'bronze_productmodelproductdescription', \n",
    "    'bronze_salesorderdetail', 'bronze_salesorderheader'\n",
    "]\n",
    "\n",
    "# Key silver target entities\n",
    "SILVER_MAIN_ENTITIES = ['order', 'customer', 'brandProduct']\n",
    "\n",
    "print(\"🔍 BRONZE TO SILVER SCHEMA ANALYSIS\")\n",
    "print(\"=\" * 60)\n",
    "print(f\"✅ Libraries imported\")\n",
    "print(f\"📅 Analysis timestamp: {LOAD_TIMESTAMP}\")"
   ]
  }
 ],
 "metadata": {
  "kernelspec": {
   "display_name": ".venv",
   "language": "python",
   "name": "python3"
  },
  "language_info": {
   "codemirror_mode": {
    "name": "ipython",
    "version": 3
   },
   "file_extension": ".py",
   "mimetype": "text/x-python",
   "name": "python",
   "nbconvert_exporter": "python",
   "pygments_lexer": "ipython3",
   "version": "3.11.9"
  }
 },
 "nbformat": 4,
 "nbformat_minor": 5
}
