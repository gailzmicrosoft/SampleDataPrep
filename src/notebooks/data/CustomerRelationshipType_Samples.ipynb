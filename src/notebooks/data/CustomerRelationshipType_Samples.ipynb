{
 "cells": [
  {
   "cell_type": "markdown",
   "id": "8f4d3ae6",
   "metadata": {},
   "source": [
    "# CustomerRelationshipType Sample Data\n",
    "\n",
    "## Overview\n",
    "Generate sample data for the CustomerRelationshipType lookup table with 3 essential customer tiers.\n",
    "\n",
    "---"
   ]
  },
  {
   "cell_type": "code",
   "execution_count": null,
   "id": "9b1eac14",
   "metadata": {},
   "outputs": [],
   "source": [
    "import pandas as pd\n",
    "import os\n",
    "\n",
    "# Configuration\n",
    "OUTPUT_FOLDER = \"C:\\\\temp\\\\samples\"\n",
    "OUTPUT_FILE = \"CustomerRelationshipType_samples.csv\"\n",
    "\n",
    "# Create output directory\n",
    "os.makedirs(OUTPUT_FOLDER, exist_ok=True)\n",
    "\n",
    "# Sample CustomerRelationshipType data\n",
    "customer_relationship_types = [\n",
    "    {\n",
    "        'CustomerRelationshipTypeId': '1',\n",
    "        'CustomerRelationshipTypeName': 'VIP',\n",
    "        'CustomerRelationshipTypeDescription': 'Top tier customers'\n",
    "    },\n",
    "    {\n",
    "        'CustomerRelationshipTypeId': '2', \n",
    "        'CustomerRelationshipTypeName': 'Premium',\n",
    "        'CustomerRelationshipTypeDescription': 'High-value customers'\n",
    "    },\n",
    "    {\n",
    "        'CustomerRelationshipTypeId': '3',\n",
    "        'CustomerRelationshipTypeName': 'Standard',\n",
    "        'CustomerRelationshipTypeDescription': 'Regular customers'\n",
    "    }\n",
    "]\n",
    "\n",
    "# Create DataFrame\n",
    "df = pd.DataFrame(customer_relationship_types)\n",
    "\n",
    "# Display the data\n",
    "print(\"🎯 CUSTOMER RELATIONSHIP TYPE SAMPLES\")\n",
    "print(\"=\"*50)\n",
    "print(f\"Total Records: {len(df)}\")\n",
    "print()\n",
    "\n",
    "for _, row in df.iterrows():\n",
    "    print(f\"ID: {row['CustomerRelationshipTypeId']} | {row['CustomerRelationshipTypeName']}\")\n",
    "    print(f\"   Description: {row['CustomerRelationshipTypeDescription']}\")\n",
    "    print()\n",
    "\n",
    "# Save to CSV\n",
    "output_path = os.path.join(OUTPUT_FOLDER, OUTPUT_FILE)\n",
    "df.to_csv(output_path, index=False)\n",
    "\n",
    "print(f\"💾 SAVED TO: {output_path}\")\n",
    "print(f\"📊 Columns: {', '.join(df.columns)}\")\n",
    "print(\"\\n✅ CustomerRelationshipType sample data complete!\")"
   ]
  }
 ],
 "metadata": {
  "language_info": {
   "name": "python"
  }
 },
 "nbformat": 4,
 "nbformat_minor": 5
}
