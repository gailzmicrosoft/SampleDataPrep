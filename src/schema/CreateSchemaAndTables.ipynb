{
 "cells": [
  {
   "cell_type": "markdown",
   "id": "f741df5b",
   "metadata": {},
   "source": [
    "Create Schema and Tables "
   ]
  },
  {
   "cell_type": "markdown",
   "id": "05845a1d",
   "metadata": {},
   "source": [
    "Create Schema retail"
   ]
  },
  {
   "cell_type": "code",
   "execution_count": null,
   "id": "4f9789b2",
   "metadata": {
    "vscode": {
     "languageId": "sql"
    }
   },
   "outputs": [],
   "source": [
    "%%sql\n",
    "CREATE SCHEMA IF NOT EXISTS retail;"
   ]
  },
  {
   "cell_type": "markdown",
   "id": "81a4cd9f",
   "metadata": {},
   "source": [
    "1. Create CustomerAccount table"
   ]
  },
  {
   "cell_type": "code",
   "execution_count": null,
   "id": "475c99c4",
   "metadata": {
    "vscode": {
     "languageId": "sql"
    }
   },
   "outputs": [],
   "source": [
    "%%sql\n",
    "-- Create CustomerAccount table in retail schema\n",
    "CREATE TABLE retail.CustomerAccount (\n",
    "    CustomerAccountId STRING NOT NULL,\n",
    "    CustomerAccountName STRING,\n",
    "    CustomerAccountOpenedDate DATE,\n",
    "    CustomerAccountClosedDate DATE,\n",
    "    GlobalServiceRelationshipNumber DECIMAL(18,1),\n",
    "    CustomerId STRING,\n",
    "    ResponsibilityCenterId STRING,\n",
    "    SubaccountOfCustomerAccountId STRING,\n",
    "    LedgerId STRING,\n",
    "    LedgerAccountNumber STRING,\n",
    "    IsoCurrencyCode STRING,\n",
    "    CustomerAccountTypeId STRING,\n",
    "    CustomerAccountApplicationNumber INT\n",
    ")\n",
    "USING DELTA\n",
    "LOCATION '/lakehouse/default/Tables/retail/CustomerAccount'"
   ]
  },
  {
   "cell_type": "markdown",
   "id": "e66bd21e",
   "metadata": {},
   "source": [
    "2. Create Table CustomerAccountEmail"
   ]
  },
  {
   "cell_type": "code",
   "execution_count": null,
   "id": "4e27874e",
   "metadata": {
    "vscode": {
     "languageId": "sql"
    }
   },
   "outputs": [],
   "source": [
    "%%sql\n",
    "-- Create CustomerAccountEmail table in retail schema\n",
    "CREATE TABLE retail.CustomerAccountEmail (\n",
    "    CustomerAccountId STRING,\n",
    "    EmailTypeId STRING,\n",
    "    EmailAddress STRING NOT NULL,\n",
    "    PeriodStartTimestamp TIMESTAMP NOT NULL,\n",
    "    PeriodEndTimestamp TIMESTAMP,\n",
    "    PreferenceId STRING,\n",
    "    CustomerAccountEmailNote STRING\n",
    ")\n",
    "USING DELTA\n",
    "LOCATION '/lakehouse/default/Tables/retail/CustomerAccountEmail'"
   ]
  },
  {
   "cell_type": "markdown",
   "id": "e2b127c0",
   "metadata": {},
   "source": [
    "3. Create Table CustomerAccountLocation"
   ]
  },
  {
   "cell_type": "code",
   "execution_count": null,
   "id": "2fa898ce",
   "metadata": {
    "vscode": {
     "languageId": "sql"
    }
   },
   "outputs": [],
   "source": [
    "%%sql\n",
    "-- Create CustomerAccountLocation table in retail schema\n",
    "CREATE TABLE retail.CustomerAccountLocation (\n",
    "    CustomerAccountId STRING,\n",
    "    LocationTypeId STRING,\n",
    "    LocationId STRING,\n",
    "    PeriodStartTimestamp TIMESTAMP NOT NULL,\n",
    "    PeriodEndTimestamp TIMESTAMP,\n",
    "    GlobalLocationNumber DECIMAL(13,1),\n",
    "    PreferenceId STRING,\n",
    "    CustomerAccountLocationNote STRING\n",
    ")\n",
    "USING DELTA\n",
    "LOCATION '/lakehouse/default/Tables/retail/CustomerAccountLocation'"
   ]
  },
  {
   "cell_type": "markdown",
   "id": "d1a01308",
   "metadata": {},
   "source": [
    "4. Create Table CustomerAccountTelephoneNumber"
   ]
  },
  {
   "cell_type": "code",
   "execution_count": null,
   "id": "612720c5",
   "metadata": {
    "vscode": {
     "languageId": "sql"
    }
   },
   "outputs": [],
   "source": [
    "%%sql\n",
    "-- Create CustomerAccountTelephoneNumber table in retail schema\n",
    "CREATE TABLE retail.CustomerAccountTelephoneNumber (\n",
    "    CustomerAccountId STRING,\n",
    "    TelephoneNumberTypeId STRING,\n",
    "    TelephoneNumber DECIMAL(15,1) NOT NULL,\n",
    "    PeriodStartTimestamp TIMESTAMP NOT NULL,\n",
    "    PeriodEndTimestamp TIMESTAMP,\n",
    "    PreferenceId STRING,\n",
    "    TelephoneNumberNote STRING,\n",
    "    LocationId STRING,\n",
    "    TextCapableIndicator BOOLEAN\n",
    ")\n",
    "USING DELTA\n",
    "LOCATION '/lakehouse/default/Tables/retail/CustomerAccountTelephoneNumber'"
   ]
  },
  {
   "cell_type": "markdown",
   "id": "719f9b5b",
   "metadata": {},
   "source": [
    "5. Create Table CustomerGroup"
   ]
  },
  {
   "cell_type": "code",
   "execution_count": null,
   "id": "1d6ebc85",
   "metadata": {
    "vscode": {
     "languageId": "sql"
    }
   },
   "outputs": [],
   "source": [
    "%%sql\n",
    "-- Create CustomerGroup table in retail schema\n",
    "CREATE TABLE retail.CustomerGroup (\n",
    "    CustomerGroupId STRING NOT NULL,\n",
    "    CustomerGroupName STRING,\n",
    "    CustomerGroupDescription STRING,\n",
    "    ClassificationAgencyPartyId STRING\n",
    ")\n",
    "USING DELTA\n",
    "LOCATION '/lakehouse/default/Tables/retail/CustomerGroup'"
   ]
  },
  {
   "cell_type": "markdown",
   "id": "8b5415e4",
   "metadata": {},
   "source": [
    "6. Create Table CustomerLocation"
   ]
  },
  {
   "cell_type": "code",
   "execution_count": null,
   "id": "b1542b5e",
   "metadata": {
    "vscode": {
     "languageId": "sql"
    }
   },
   "outputs": [],
   "source": [
    "%%sql \n",
    "-- Create CustomerLocation table in retail schema\n",
    "CREATE TABLE retail.CustomerLocation (\n",
    "    CustomerId STRING,\n",
    "    LocationTypeId STRING,\n",
    "    LocationId STRING,\n",
    "    PeriodStartTimestamp TIMESTAMP NOT NULL,\n",
    "    PeriodEndTimestamp TIMESTAMP,\n",
    "    GlobalLocationNumber DECIMAL(13,1),\n",
    "    PreferenceId STRING,\n",
    "    CustomerLocationNote STRING\n",
    ")\n",
    "USING DELTA\n",
    "LOCATION '/lakehouse/default/Tables/retail/CustomerLocation'"
   ]
  },
  {
   "cell_type": "markdown",
   "id": "4791a8ab",
   "metadata": {},
   "source": [
    "7. Create Table CustomerName "
   ]
  },
  {
   "cell_type": "code",
   "execution_count": null,
   "id": "8a4a2e35",
   "metadata": {
    "vscode": {
     "languageId": "sql"
    }
   },
   "outputs": [],
   "source": [
    "%%sql\n",
    "-- Create CustomerName table in retail schema\n",
    "CREATE TABLE retail.CustomerName (\n",
    "    CustomerId STRING,\n",
    "    CustomerNameId STRING NOT NULL,\n",
    "    NameUsageId STRING,\n",
    "    StartDate DATE,\n",
    "    EndDate DATE,\n",
    "    CustomerNameNote STRING\n",
    ")\n",
    "USING DELTA\n",
    "LOCATION '/lakehouse/default/Tables/retail/CustomerName'"
   ]
  },
  {
   "cell_type": "markdown",
   "id": "ed925b21",
   "metadata": {},
   "source": [
    "8. Create Table CustomerRelationshipType"
   ]
  },
  {
   "cell_type": "code",
   "execution_count": null,
   "id": "75380e28",
   "metadata": {
    "vscode": {
     "languageId": "sql"
    }
   },
   "outputs": [],
   "source": [
    "%%sql\n",
    "-- Create CustomerRelationshipType table in retail schema\n",
    "CREATE TABLE retail.CustomerRelationshipType (\n",
    "    CustomerRelationshipTypeId STRING NOT NULL,\n",
    "    CustomerRelationshipTypeName STRING,\n",
    "    CustomerRelationshipTypeDescription STRING\n",
    ")\n",
    "USING DELTA\n",
    "LOCATION '/lakehouse/default/Tables/retail/CustomerRelationshipType'"
   ]
  },
  {
   "cell_type": "markdown",
   "id": "ab3cfae0",
   "metadata": {},
   "source": [
    "9. Create Table CustomerStatusType"
   ]
  },
  {
   "cell_type": "code",
   "execution_count": null,
   "id": "917e74b9",
   "metadata": {
    "vscode": {
     "languageId": "sql"
    }
   },
   "outputs": [],
   "source": [
    "%%sql\n",
    "-- Create CustomerStatusType table in retail schema\n",
    "CREATE TABLE retail.CustomerStatusType (\n",
    "    CustomerStatusTypeId STRING NOT NULL,\n",
    "    CustomerStatusTypeName STRING,\n",
    "    CustomerStatusTypeDescription STRING\n",
    ")\n",
    "USING DELTA\n",
    "LOCATION '/lakehouse/default/Tables/retail/CustomerStatusType'"
   ]
  },
  {
   "cell_type": "markdown",
   "id": "1039b5e5",
   "metadata": {},
   "source": [
    "10. Create Table CustomerTelephoneNumber"
   ]
  },
  {
   "cell_type": "code",
   "execution_count": null,
   "id": "7aea2f54",
   "metadata": {
    "vscode": {
     "languageId": "sql"
    }
   },
   "outputs": [],
   "source": [
    "%%sql\n",
    "-- Create CustomerTelephoneNumber table in retail schema\n",
    "CREATE TABLE retail.CustomerTelephoneNumber (\n",
    "    CustomerId STRING,\n",
    "    TelephoneNumberTypeId STRING,\n",
    "    TelephoneNumber DECIMAL(15,1) NOT NULL,\n",
    "    PeriodStartTimestamp TIMESTAMP NOT NULL,\n",
    "    PeriodEndTimestamp TIMESTAMP,\n",
    "    PreferenceId STRING,\n",
    "    TelephoneNumberNote STRING,\n",
    "    LocationId STRING,\n",
    "    TextCapableIndicator BOOLEAN\n",
    ")\n",
    "USING DELTA\n",
    "LOCATION '/lakehouse/default/Tables/retail/CustomerTelephoneNumber'"
   ]
  },
  {
   "cell_type": "markdown",
   "id": "ed920f6f",
   "metadata": {},
   "source": [
    "11. Create Table CustomerTradeName"
   ]
  },
  {
   "cell_type": "code",
   "execution_count": null,
   "id": "bfe107b2",
   "metadata": {
    "vscode": {
     "languageId": "sql"
    }
   },
   "outputs": [],
   "source": [
    "%%sql\n",
    "-- Create CustomerTradeName table in retail schema\n",
    "CREATE TABLE retail.CustomerTradeName (\n",
    "    CustomerId STRING,\n",
    "    TradeNameId STRING,\n",
    "    PeriodStartDate DATE NOT NULL,\n",
    "    PeriodEndDate DATE,\n",
    "    CustomerTradeNameNote STRING\n",
    ")\n",
    "USING DELTA\n",
    "LOCATION '/lakehouse/default/Tables/retail/CustomerTradeName'"
   ]
  },
  {
   "cell_type": "markdown",
   "id": "71e9151a",
   "metadata": {},
   "source": [
    "12. Create Table CustomerType"
   ]
  },
  {
   "cell_type": "code",
   "execution_count": null,
   "id": "14bc10d1",
   "metadata": {
    "vscode": {
     "languageId": "sql"
    }
   },
   "outputs": [],
   "source": [
    "%%sql\n",
    "-- Create CustomerType table in retail schema\n",
    "CREATE TABLE retail.CustomerType (\n",
    "    CustomerTypeId STRING NOT NULL,\n",
    "    CustomerTypeName STRING,\n",
    "    CustomerTypeDescription STRING\n",
    ")\n",
    "USING DELTA\n",
    "LOCATION '/lakehouse/default/Tables/retail/CustomerType'"
   ]
  },
  {
   "cell_type": "markdown",
   "id": "82fa2cf0",
   "metadata": {},
   "source": [
    "13. Create Table HouseholdLocation"
   ]
  },
  {
   "cell_type": "code",
   "execution_count": null,
   "id": "6b913bc0",
   "metadata": {
    "vscode": {
     "languageId": "sql"
    }
   },
   "outputs": [],
   "source": [
    "-- Create HouseholdLocation table in retail schema\n",
    "CREATE TABLE retail.HouseholdLocation (\n",
    "    HouseholdId STRING,\n",
    "    LocationId STRING,\n",
    "    PeriodStartDate DATE NOT NULL,\n",
    "    PeriodEndDate DATE,\n",
    "    HousingUnitTypeId STRING\n",
    ")\n",
    "USING DELTA\n",
    "LOCATION '/lakehouse/default/Tables/retail/HouseholdLocation'"
   ]
  },
  {
   "cell_type": "markdown",
   "id": "ec55c290",
   "metadata": {},
   "source": [
    "14. Create Table IndividualCustomer"
   ]
  },
  {
   "cell_type": "code",
   "execution_count": null,
   "id": "67eb4a02",
   "metadata": {
    "vscode": {
     "languageId": "sql"
    }
   },
   "outputs": [],
   "source": [
    "%%sql\n",
    "-- Create IndividualCustomer table in retail schema\n",
    "CREATE TABLE retail.IndividualCustomer (\n",
    "    CustomerId STRING,\n",
    "    IndividualCustomerName STRING,\n",
    "    DateOfBirth DATE,\n",
    "    DateOfDeath DATE,\n",
    "    SexId STRING,\n",
    "    GenderId STRING,\n",
    "    EthnicCategoryId STRING,\n",
    "    RacialCategoryId STRING\n",
    ")\n",
    "USING DELTA\n",
    "LOCATION '/lakehouse/default/Tables/retail/IndividualCustomer'"
   ]
  },
  {
   "cell_type": "markdown",
   "id": "f1d43459",
   "metadata": {},
   "source": [
    "15. Create Table Invoice"
   ]
  },
  {
   "cell_type": "code",
   "execution_count": null,
   "id": "decf2aad",
   "metadata": {
    "vscode": {
     "languageId": "sql"
    }
   },
   "outputs": [],
   "source": [
    "%%sql\n",
    "-- Create Invoice table in retail schema\n",
    "CREATE TABLE retail.Invoice (\n",
    "    InvoiceId STRING NOT NULL,\n",
    "    CustomerAccountId STRING,\n",
    "    InvoiceDate DATE,\n",
    "    InvoiceToName STRING,\n",
    "    InvoiceToPartyId STRING,\n",
    "    InvoiceToLocationId STRING,\n",
    "    InvoiceToTelephoneNumber DECIMAL(15,1),\n",
    "    InvoiceToFaxNumber DECIMAL(15,1),\n",
    "    InvoiceToEmailAddress STRING,\n",
    "    InvoiceNote STRING,\n",
    "    TotalInvoiceProductAmount DECIMAL(18,2),\n",
    "    TotalInvoiceChargesAmount DECIMAL(18,2),\n",
    "    TotalInvoiceAdjustmentsAmount DECIMAL(18,2),\n",
    "    TotalInvoiceTaxesAmount DECIMAL(18,2),\n",
    "    TotalInvoiceAmount DECIMAL(18,2),\n",
    "    InvoiceModeId STRING,\n",
    "    IsoCurrencyCode STRING,\n",
    "    InvoiceStatusId STRING,\n",
    "    IsoLanguageId STRING,\n",
    "    OrderId STRING\n",
    ")\n",
    "USING DELTA\n",
    "LOCATION '/lakehouse/default/Tables/retail/Invoice'"
   ]
  },
  {
   "cell_type": "markdown",
   "id": "8481c1ad",
   "metadata": {},
   "source": [
    "16. Create Table InvoiceLine"
   ]
  },
  {
   "cell_type": "code",
   "execution_count": null,
   "id": "05567904",
   "metadata": {
    "vscode": {
     "languageId": "sql"
    }
   },
   "outputs": [],
   "source": [
    "%%sql\n",
    "-- Create InvoiceLine table in retail schema\n",
    "CREATE TABLE retail.InvoiceLine (\n",
    "    InvoiceId STRING,\n",
    "    InvoiceLineNumber INT NOT NULL,\n",
    "    Quantity DECIMAL(18,2),\n",
    "    UnitPriceAmount DECIMAL(18,2),\n",
    "    SalesPriceAmount DECIMAL(18,2),\n",
    "    InvoiceLineItemNote STRING,\n",
    "    ProductId STRING,\n",
    "    ItemSku STRING,\n",
    "    TotalProductInvoiceAmount DECIMAL(18,2),\n",
    "    ChargeId STRING,\n",
    "    InvoiceLineChargeAmount DECIMAL(18,2),\n",
    "    InvoiceLineAdjustmentsAmount DECIMAL(18,2),\n",
    "    OrderLineNumber INT,\n",
    "    IsoCurrencyCode STRING,\n",
    "    InvoiceLineTypeId STRING,\n",
    "    OrderId STRING\n",
    ")\n",
    "USING DELTA\n",
    "LOCATION '/lakehouse/default/Tables/retail/InvoiceLine'"
   ]
  },
  {
   "cell_type": "markdown",
   "id": "c0d15e73",
   "metadata": {},
   "source": [
    "17. Create Table Location"
   ]
  },
  {
   "cell_type": "code",
   "execution_count": null,
   "id": "11b610b5",
   "metadata": {
    "vscode": {
     "languageId": "sql"
    }
   },
   "outputs": [],
   "source": [
    "%%sql\n",
    "-- Create Location table in retail schema\n",
    "CREATE TABLE retail.Location (\n",
    "    LocationId STRING NOT NULL,\n",
    "    LocationName STRING,\n",
    "    LocationDescription STRING,\n",
    "    LocationAddressLine1 STRING,\n",
    "    LocationAddressLine2 STRING,\n",
    "    LocationCity STRING,\n",
    "    LocationStateId STRING,\n",
    "    LocationZipCode DECIMAL(11,1),\n",
    "    LocationNote STRING,\n",
    "    LocationLatitude DECIMAL(10,7),\n",
    "    LocationLongitude DECIMAL(10,7),\n",
    "    LocationDatum STRING,\n",
    "    LocationElevation DECIMAL(18,8),\n",
    "    LocationElevationUnitOfMeasureId STRING,\n",
    "    GlobalLocationNumber DECIMAL(13,1),\n",
    "    TimezoneId STRING,\n",
    "    DaylightSavingsTimeObservedIndicator BOOLEAN,\n",
    "    CountryId STRING,\n",
    "    SubdivisionId STRING\n",
    ")\n",
    "USING DELTA\n",
    "LOCATION '/lakehouse/default/Tables/retail/Location'"
   ]
  },
  {
   "cell_type": "markdown",
   "id": "34159f84",
   "metadata": {},
   "source": [
    "18. Create Table Order"
   ]
  },
  {
   "cell_type": "code",
   "execution_count": null,
   "id": "cf92af19",
   "metadata": {
    "vscode": {
     "languageId": "sql"
    }
   },
   "outputs": [],
   "source": [
    "%%sql\n",
    "-- Create Order table in retail schema\n",
    "CREATE TABLE retail.Order (\n",
    "    OrderId STRING,\n",
    "    OrderConfirmationNumber STRING,\n",
    "    OrderEnteredByEmployeeId STRING,\n",
    "    NumberOfOrderLines INT,\n",
    "    OrderReceivedTimestamp TIMESTAMP,\n",
    "    OrderEntryTimestamp TIMESTAMP,\n",
    "    CustomerCreditCheckTimestamp TIMESTAMP,\n",
    "    OrderConfirmationTimestamp TIMESTAMP,\n",
    "    OrderRequestedDeliveryDate DATE,\n",
    "    OrderCommittedDeliveryDate DATE,\n",
    "    ShipmentConfirmationTimestamp TIMESTAMP,\n",
    "    OrderActualDeliveryTimestamp TIMESTAMP,\n",
    "    OrderTotalRetailPriceAmount DECIMAL(18,2),\n",
    "    OrderTotalActualSalesPriceAmount DECIMAL(18,2),\n",
    "    OrderTotalAdjustmentPercentage DECIMAL(18,8),\n",
    "    OrderTotalAdjustmentAmount DECIMAL(18,2),\n",
    "    OrderTotalAmount DECIMAL(18,2),\n",
    "    TotalShippingChargeAmount DECIMAL(18,2),\n",
    "    OrderTotalTaxAmount DECIMAL(18,2),\n",
    "    OrderTotalInvoicedAmount DECIMAL(18,2),\n",
    "    TotalGratuityAmount DECIMAL(18,2),\n",
    "    TotalPaidAmount DECIMAL(18,2),\n",
    "    TotalCommissionsPayableAmount DECIMAL(18,2),\n",
    "    SplitCommissionsIndicator BOOLEAN,\n",
    "    OrderBookedDate DATE,\n",
    "    OrderBilledDate DATE,\n",
    "    OrderBacklogReportedDate DATE,\n",
    "    OrderBacklogReleasedDate DATE,\n",
    "    OrderCancellationDate DATE,\n",
    "    OrderReturnedDate DATE,\n",
    "    ShipmentToName STRING,\n",
    "    ShipmentToLocationId STRING,\n",
    "    ShipmentId STRING,\n",
    "    CarrierId STRING,\n",
    "    ShipmentMethodId STRING,\n",
    "    RequestedShipmentCarrierName STRING,\n",
    "    AlternateCarrierAcceptableIndicator BOOLEAN,\n",
    "    ActualShipmentCarrierName STRING,\n",
    "    ShipOrderCompleteIndicator BOOLEAN,\n",
    "    TotalOrderWeight DECIMAL(18,8),\n",
    "    WeightUomId STRING,\n",
    "    TotalOrderFreightChargeAmount DECIMAL(18,2),\n",
    "    EarliestDeliveryWindowTimestamp TIMESTAMP,\n",
    "    LatestDeliveryWindowTimestamp TIMESTAMP,\n",
    "    AcknowledgementRequiredIndicator BOOLEAN,\n",
    "    ExpediteOrderIndicator BOOLEAN,\n",
    "    DropShipmentIndicator BOOLEAN,\n",
    "    ServiceOrderIndicator BOOLEAN,\n",
    "    ProductOrderIndicator BOOLEAN,\n",
    "    OrderDeliveryInstructions STRING,\n",
    "    CustomerCreditCheckNote STRING,\n",
    "    MessageToCustomer STRING,\n",
    "    CustomerId STRING,\n",
    "    CustomerAccountId STRING,\n",
    "    WarehouseId STRING,\n",
    "    StoreId STRING,\n",
    "    CustomerIdentificationMethodId STRING,\n",
    "    PoNumber STRING,\n",
    "    MarketingEventId STRING,\n",
    "    AdvertisingEventId STRING,\n",
    "    SalesMethodId STRING,\n",
    "    PaymentMethodId STRING,\n",
    "    BillingCycleId STRING,\n",
    "    ContractId STRING,\n",
    "    SalesChannelId STRING,\n",
    "    DistributionChannelId STRING,\n",
    "    OrderTypeId STRING,\n",
    "    OrderClassificationId STRING,\n",
    "    RejectionReasonId STRING,\n",
    "    OrderProcessingStatusId STRING,\n",
    "    IsoCurrencyCode STRING,\n",
    "    PointOfSaleId STRING,\n",
    "    ResponsibilityCenterId STRING,\n",
    "    VendorId STRING,\n",
    "    DeviceId STRING,\n",
    "    SoftwareProductId STRING,\n",
    "    SoftwareProductVersionNumber INT,\n",
    "    PromotionOfferId STRING\n",
    ")\n",
    "USING DELTA\n",
    "LOCATION '/lakehouse/default/Tables/retail/Order'"
   ]
  },
  {
   "cell_type": "markdown",
   "id": "0f8e7fe3",
   "metadata": {},
   "source": [
    "19. Create Table OrderActivityType"
   ]
  },
  {
   "cell_type": "code",
   "execution_count": null,
   "id": "0f20cc42",
   "metadata": {
    "vscode": {
     "languageId": "sql"
    }
   },
   "outputs": [],
   "source": [
    "%%sql\n",
    "-- Create OrderActivityType table in retail schema\n",
    "CREATE TABLE retail.OrderActivityType (\n",
    "    OrderActivityTypeId STRING NOT NULL,\n",
    "    OrderActivityTypeName STRING,\n",
    "    OrderActivityTypeDescription STRING\n",
    ")\n",
    "USING DELTA\n",
    "LOCATION '/lakehouse/default/Tables/retail/OrderActivityType'"
   ]
  },
  {
   "cell_type": "markdown",
   "id": "019bb889",
   "metadata": {},
   "source": [
    "20. Create Table OrderAdjustment"
   ]
  },
  {
   "cell_type": "code",
   "execution_count": null,
   "id": "326c4b4d",
   "metadata": {
    "vscode": {
     "languageId": "sql"
    }
   },
   "outputs": [],
   "source": [
    "%%sql\n",
    "-- Create OrderAdjustment table in retail schema\n",
    "CREATE TABLE retail.OrderAdjustment (\n",
    "    OrderId STRING,\n",
    "    AdjustmentId STRING,\n",
    "    OrderAdjustmentAmount DECIMAL(18,2),\n",
    "    OrderAdjustmentNote STRING\n",
    ")\n",
    "USING DELTA\n",
    "LOCATION '/lakehouse/default/Tables/retail/OrderAdjustment'"
   ]
  },
  {
   "cell_type": "markdown",
   "id": "8f46bf80",
   "metadata": {},
   "source": [
    "21. Create Table OrderCharge"
   ]
  },
  {
   "cell_type": "code",
   "execution_count": null,
   "id": "d2a662aa",
   "metadata": {
    "vscode": {
     "languageId": "sql"
    }
   },
   "outputs": [],
   "source": [
    "%%sql\n",
    "-- Create OrderCharge table in retail schema\n",
    "CREATE TABLE retail.OrderCharge (\n",
    "    OrderId STRING,\n",
    "    OrderChargeTypeId STRING,\n",
    "    OrderChargeAmount DECIMAL(18,2),\n",
    "    ChargeByPartyId STRING,\n",
    "    OrderChargeNote STRING\n",
    ")\n",
    "USING DELTA\n",
    "LOCATION '/lakehouse/default/Tables/retail/OrderCharge'"
   ]
  },
  {
   "cell_type": "markdown",
   "id": "5b4b7cf7",
   "metadata": {},
   "source": [
    "22. Create Table OrderChargeType"
   ]
  },
  {
   "cell_type": "code",
   "execution_count": null,
   "id": "edca6634",
   "metadata": {
    "vscode": {
     "languageId": "sql"
    }
   },
   "outputs": [],
   "source": [
    "%%sql\n",
    "-- Create OrderChargeType table in retail schema\n",
    "CREATE TABLE retail.OrderChargeType (\n",
    "    OrderChargeTypeId STRING NOT NULL,\n",
    "    OrderChargeTypeName STRING,\n",
    "    OrderChargeTypeDescription STRING,\n",
    "    OrderChargeCategoryId STRING\n",
    ")\n",
    "USING DELTA\n",
    "LOCATION '/lakehouse/default/Tables/retail/OrderChargeType'"
   ]
  },
  {
   "cell_type": "markdown",
   "id": "41a39913",
   "metadata": {},
   "source": [
    "23. Create Table OrderClassification"
   ]
  },
  {
   "cell_type": "code",
   "execution_count": null,
   "id": "864d8e5a",
   "metadata": {
    "vscode": {
     "languageId": "sql"
    }
   },
   "outputs": [],
   "source": [
    "%%sql\n",
    "-- Create OrderClassification table in retail schema\n",
    "CREATE TABLE retail.OrderClassification (\n",
    "    OrderClassificationId STRING NOT NULL,\n",
    "    OrderClassificationName STRING,\n",
    "    OrderClassificationDescription STRING\n",
    ")\n",
    "USING DELTA\n",
    "LOCATION '/lakehouse/default/Tables/retail/OrderClassification'"
   ]
  },
  {
   "cell_type": "markdown",
   "id": "c998a551",
   "metadata": {},
   "source": [
    "24. Create Table OrderCondition"
   ]
  },
  {
   "cell_type": "code",
   "execution_count": null,
   "id": "dfe6b97d",
   "metadata": {
    "vscode": {
     "languageId": "sql"
    }
   },
   "outputs": [],
   "source": [
    "%%sql\n",
    "-- Create OrderCondition table in retail schema\n",
    "CREATE TABLE retail.OrderCondition (\n",
    "    OrderConditionId STRING NOT NULL,\n",
    "    OrderConditionName STRING,\n",
    "    OrderConditionDescription STRING\n",
    ")\n",
    "USING DELTA\n",
    "LOCATION '/lakehouse/default/Tables/retail/OrderCondition'"
   ]
  },
  {
   "cell_type": "markdown",
   "id": "2d786ce4",
   "metadata": {},
   "source": [
    "25. Create Table OrderDeliveryTerm"
   ]
  },
  {
   "cell_type": "code",
   "execution_count": null,
   "id": "ea63deae",
   "metadata": {
    "vscode": {
     "languageId": "sql"
    }
   },
   "outputs": [],
   "source": [
    "%%sql\n",
    "-- Create OrderDeliveryTerm table in retail schema\n",
    "CREATE TABLE retail.OrderDeliveryTerm (\n",
    "    OrderId STRING,\n",
    "    DeliveryTermId STRING,\n",
    "    OrderDeliveryTermNote STRING\n",
    ")\n",
    "USING DELTA\n",
    "LOCATION '/lakehouse/default/Tables/retail/OrderDeliveryTerm'"
   ]
  },
  {
   "cell_type": "markdown",
   "id": "d9065b89",
   "metadata": {},
   "source": [
    "26. Create Table OrderFinanceTerm"
   ]
  },
  {
   "cell_type": "code",
   "execution_count": null,
   "id": "6823818b",
   "metadata": {
    "vscode": {
     "languageId": "sql"
    }
   },
   "outputs": [],
   "source": [
    "%%sql\n",
    "-- Create OrderFinanceTerm table in retail schema\n",
    "CREATE TABLE retail.OrderFinanceTerm (\n",
    "    OrderId STRING,\n",
    "    FinanceTermId STRING,\n",
    "    OrderFinanceTermNote STRING\n",
    ")\n",
    "USING DELTA\n",
    "LOCATION '/lakehouse/default/Tables/retail/OrderFinanceTerm'"
   ]
  },
  {
   "cell_type": "markdown",
   "id": "6e433dfc",
   "metadata": {},
   "source": [
    "27. Create Table OrderHold"
   ]
  },
  {
   "cell_type": "code",
   "execution_count": null,
   "id": "2cf8dc66",
   "metadata": {
    "vscode": {
     "languageId": "sql"
    }
   },
   "outputs": [],
   "source": [
    "%%sql\n",
    "-- Create OrderHold table in retail schema\n",
    "CREATE TABLE retail.OrderHold (\n",
    "    OrderId STRING,\n",
    "    OrderHoldPlacedTimestamp TIMESTAMP NOT NULL,\n",
    "    OrderHoldReleaseTimestamp TIMESTAMP,\n",
    "    HoldReasonId STRING,\n",
    "    HoldTypeId STRING,\n",
    "    OrderHoldNote STRING\n",
    ")\n",
    "USING DELTA\n",
    "LOCATION '/lakehouse/default/Tables/retail/OrderHold'"
   ]
  },
  {
   "cell_type": "markdown",
   "id": "70ad092b",
   "metadata": {},
   "source": [
    "28. Create Table OrderLanguageUsage"
   ]
  },
  {
   "cell_type": "code",
   "execution_count": null,
   "id": "0796a4e2",
   "metadata": {
    "vscode": {
     "languageId": "sql"
    }
   },
   "outputs": [],
   "source": [
    "%%sql\n",
    "-- Create OrderLanguageUsage table in retail schema\n",
    "CREATE TABLE retail.OrderLanguageUsage (\n",
    "    OrderId STRING,\n",
    "    LanguageUsageId STRING,\n",
    "    IsoLanguageId STRING,\n",
    "    OrderLanguageUsageNote STRING\n",
    ")\n",
    "USING DELTA\n",
    "LOCATION '/lakehouse/default/Tables/retail/OrderLanguageUsage'"
   ]
  },
  {
   "cell_type": "markdown",
   "id": "5d603312",
   "metadata": {},
   "source": [
    "29. Create Table OrderLine"
   ]
  },
  {
   "cell_type": "code",
   "execution_count": null,
   "id": "7ee94bec",
   "metadata": {
    "vscode": {
     "languageId": "sql"
    }
   },
   "outputs": [],
   "source": [
    "%%sql\n",
    "-- Create OrderLine table in retail schema\n",
    "CREATE TABLE retail.OrderLine (\n",
    "    OrderId STRING,\n",
    "    OrderLineNumber INT NOT NULL,\n",
    "    ProductId STRING,\n",
    "    ItemSku STRING,\n",
    "    Quantity DECIMAL(18,2),\n",
    "    ProductListPriceAmount DECIMAL(18,2),\n",
    "    ProductSalesPriceAmount DECIMAL(18,2),\n",
    "    ProductAdjustmentAmount DECIMAL(18,2),\n",
    "    ProductAdjustmentPercentage DECIMAL(18,8),\n",
    "    TotalOrderLineAdjustmentAmount DECIMAL(18,2),\n",
    "    TotalOrderLineAmount DECIMAL(18,2),\n",
    "    PriceUomId STRING,\n",
    "    QuantityBooked INT,\n",
    "    QuantityBilled INT,\n",
    "    QuantityBacklog INT,\n",
    "    AcceptedQuantity DECIMAL(18,2),\n",
    "    QuantityCancelled INT,\n",
    "    QuantityReturned INT,\n",
    "    QuantityUomId STRING,\n",
    "    BookedDate DATE,\n",
    "    BilledDate DATE,\n",
    "    CancelledTimestamp TIMESTAMP,\n",
    "    ReturnedDate DATE,\n",
    "    RequestedDeliveryDate DATE,\n",
    "    CommittedDeliveryDate DATE,\n",
    "    PlannedPickDate DATE,\n",
    "    ActualPickTimestamp TIMESTAMP,\n",
    "    PlannedShipmentDate DATE,\n",
    "    ActualShipmentTimestamp TIMESTAMP,\n",
    "    PlannedDeliveryDate DATE,\n",
    "    ActualDeliveryTimestamp TIMESTAMP,\n",
    "    ShipmentConfirmationTimestamp TIMESTAMP,\n",
    "    DropShipOrderLineItemIndicator BOOLEAN,\n",
    "    WaybillNumber INT,\n",
    "    TareWeight DECIMAL(18,8),\n",
    "    NetWeight DECIMAL(18,8),\n",
    "    WeightUomId STRING,\n",
    "    EarliestDeliveryWindowTimestamp TIMESTAMP,\n",
    "    LatestDeliveryWindowTimestamp TIMESTAMP,\n",
    "    ReturnToStockIndicator BOOLEAN,\n",
    "    ReturnToStoreIndicator BOOLEAN,\n",
    "    OrderLineTypeId STRING,\n",
    "    RejectionReasonId STRING,\n",
    "    WorkOrderId STRING,\n",
    "    TaskId STRING,\n",
    "    BuyClassId STRING,\n",
    "    PromotionOfferId STRING\n",
    ")\n",
    "USING DELTA\n",
    "LOCATION '/lakehouse/default/Tables/retail/OrderLine'"
   ]
  },
  {
   "cell_type": "markdown",
   "id": "47c0ed72",
   "metadata": {},
   "source": [
    "30. Create Table OrderLineAdjustment"
   ]
  },
  {
   "cell_type": "code",
   "execution_count": null,
   "id": "da807c5e",
   "metadata": {
    "vscode": {
     "languageId": "sql"
    }
   },
   "outputs": [],
   "source": [
    "CREATE TABLE retail.OrderLineAdjustment (\n",
    "    OrderId NVARCHAR(100),\n",
    "    OrderLineNumber INT,\n",
    "    AdjustmentId NVARCHAR(100),\n",
    "    OrderLineAdjustmentTimestamp DATETIME2,\n",
    "    OrderLineAdjustmentAmount DECIMAL(18,2),\n",
    "    OrderLineAdjustmentQuantity DECIMAL(18,2),\n",
    "    OrderLineAdjustmentNote NVARCHAR(1000),\n",
    "    OrderLineAdjustmentReasonId NVARCHAR(100)\n",
    ")\n",
    "USING DELTA\n",
    "LOCATION '/lakehouse/default/Tables/retail/OrderLineAdjustment';"
   ]
  },
  {
   "cell_type": "markdown",
   "id": "74b4dfd1",
   "metadata": {},
   "source": [
    "31. Create Table OrderLineAdjustmentReason"
   ]
  },
  {
   "cell_type": "code",
   "execution_count": null,
   "id": "a9f41d0a",
   "metadata": {
    "vscode": {
     "languageId": "sql"
    }
   },
   "outputs": [],
   "source": [
    "%%sql\n",
    "-- Create OrderLineAdjustmentReason table in retail schema\n",
    "CREATE TABLE retail.OrderLineAdjustmentReason (\n",
    "    OrderLineAdjustmentReasonId STRING NOT NULL,\n",
    "    OrderLineAdjustmentReasonName STRING,\n",
    "    OrderLineAdjustmentReasonDescription STRING\n",
    ")\n",
    "USING DELTA\n",
    "LOCATION '/lakehouse/default/Tables/retail/OrderLineAdjustmentReason'"
   ]
  },
  {
   "cell_type": "markdown",
   "id": "526111c4",
   "metadata": {},
   "source": [
    "32. Creat Table OrderLineCharge"
   ]
  },
  {
   "cell_type": "code",
   "execution_count": null,
   "id": "2234ac39",
   "metadata": {
    "vscode": {
     "languageId": "sql"
    }
   },
   "outputs": [],
   "source": [
    "%%sql\n",
    "-- Create OrderLineCharge table in retail schema\n",
    "CREATE TABLE retail.OrderLineCharge (\n",
    "    OrderId STRING,\n",
    "    OrderLineNumber INT,\n",
    "    OrderChargeTypeId STRING,\n",
    "    OrderLineChargeAmount DECIMAL(18,2),\n",
    "    ChargeByPartyId STRING,\n",
    "    OrderLineChargeNote STRING\n",
    ")\n",
    "USING DELTA\n",
    "LOCATION '/lakehouse/default/Tables/retail/OrderLineCharge'"
   ]
  },
  {
   "cell_type": "markdown",
   "id": "b68b5aa2",
   "metadata": {},
   "source": [
    "33. Create Table OrderLineHold"
   ]
  },
  {
   "cell_type": "code",
   "execution_count": null,
   "id": "575fda98",
   "metadata": {
    "vscode": {
     "languageId": "sql"
    }
   },
   "outputs": [],
   "source": [
    "%%sql\n",
    "-- Create OrderLineHold table in retail schema\n",
    "CREATE TABLE retail.OrderLineHold (\n",
    "    OrderId STRING,\n",
    "    OrderLineNumber INT,\n",
    "    OrderLineHoldPlacedTimestamp TIMESTAMP NOT NULL,\n",
    "    OrderLineHoldReleasedTimestamp TIMESTAMP,\n",
    "    HoldReasonId STRING,\n",
    "    HoldTypeId STRING,\n",
    "    OrderLineHoldNote STRING\n",
    ")\n",
    "USING DELTA\n",
    "LOCATION '/lakehouse/default/Tables/retail/OrderLineHold'"
   ]
  },
  {
   "cell_type": "markdown",
   "id": "ab50b559",
   "metadata": {},
   "source": [
    "34. Create Table OrderLineStatus"
   ]
  },
  {
   "cell_type": "code",
   "execution_count": null,
   "id": "331370e2",
   "metadata": {
    "vscode": {
     "languageId": "sql"
    }
   },
   "outputs": [],
   "source": [
    "CREATE TABLE retail.OrderLineStatus (\n",
    "    OrderId NVARCHAR(100) NULL,\n",
    "    OrderLineNumber INT NULL,\n",
    "    OrderLineStatusStartTimestamp DATETIME2 NOT NULL,\n",
    "    OrderLineStatusEndTimestamp DATETIME2 NULL,\n",
    "    OrderStatusTypeId NVARCHAR(100) NULL\n",
    ")\n",
    "USING DELTA\n",
    "LOCATION '/lakehouse/default/Tables/retail/OrderLineStatus';"
   ]
  },
  {
   "cell_type": "markdown",
   "id": "fce0043a",
   "metadata": {},
   "source": [
    "35. Create Table OrderPartyRelationshipType"
   ]
  },
  {
   "cell_type": "code",
   "execution_count": null,
   "id": "2e1dbb48",
   "metadata": {
    "vscode": {
     "languageId": "sql"
    }
   },
   "outputs": [],
   "source": [
    "%%sql\n",
    "-- Create OrderPartyRelationshipType table in retail schema\n",
    "CREATE TABLE retail.OrderPartyRelationshipType (\n",
    "    OrderPartyRelationshipTypeId STRING NOT NULL,\n",
    "    OrderPartyRelationshipTypeName STRING,\n",
    "    OrderPartyRelationshipTypeDescription STRING\n",
    ")\n",
    "USING DELTA\n",
    "LOCATION '/lakehouse/default/Tables/retail/OrderPartyRelationshipType'"
   ]
  },
  {
   "cell_type": "markdown",
   "id": "4722963d",
   "metadata": {},
   "source": [
    "36. Create Table OrderPayment"
   ]
  },
  {
   "cell_type": "code",
   "execution_count": null,
   "id": "ad59d8f0",
   "metadata": {
    "vscode": {
     "languageId": "sql"
    }
   },
   "outputs": [],
   "source": [
    "%%sql\n",
    "-- Create OrderPayment table in retail schema\n",
    "CREATE TABLE retail.OrderPayment (\n",
    "    OrderId STRING,\n",
    "    PaymentId STRING,\n",
    "    AmountAppliedToOrder DECIMAL(18,2)\n",
    ")\n",
    "USING DELTA\n",
    "LOCATION '/lakehouse/default/Tables/retail/OrderPayment'"
   ]
  },
  {
   "cell_type": "markdown",
   "id": "a1526224",
   "metadata": {},
   "source": [
    "37. Create Table OrderProcessingStatus"
   ]
  },
  {
   "cell_type": "code",
   "execution_count": null,
   "id": "72e12ecd",
   "metadata": {
    "vscode": {
     "languageId": "sql"
    }
   },
   "outputs": [],
   "source": [
    "%%sql\n",
    "-- Create OrderProcessingStatus table in retail schema\n",
    "CREATE TABLE retail.OrderProcessingStatus (\n",
    "    OrderProcessingStatusId STRING NOT NULL,\n",
    "    OrderProcessingStatusName STRING,\n",
    "    OrderProcessingStatusDescription STRING\n",
    ")\n",
    "USING DELTA\n",
    "LOCATION '/lakehouse/default/Tables/retail/OrderProcessingStatus'"
   ]
  },
  {
   "cell_type": "markdown",
   "id": "3f58d94d",
   "metadata": {},
   "source": [
    "38. Create Table OrderRelatedParty"
   ]
  },
  {
   "cell_type": "code",
   "execution_count": null,
   "id": "3c64af0c",
   "metadata": {
    "vscode": {
     "languageId": "sql"
    }
   },
   "outputs": [],
   "source": [
    "%%sql\n",
    "-- Create OrderRelatedParty table in retail schema\n",
    "CREATE TABLE retail.OrderRelatedParty (\n",
    "    OrderId STRING,\n",
    "    PartyId STRING,\n",
    "    OrderPartyRelationshipTypeId STRING,\n",
    "    OrderPartyRelationshipNote STRING\n",
    ")\n",
    "USING DELTA\n",
    "LOCATION '/lakehouse/default/Tables/retail/OrderRelatedParty'"
   ]
  },
  {
   "cell_type": "markdown",
   "id": "25341f3c",
   "metadata": {},
   "source": [
    "39. Create Table OrderSalesTerm"
   ]
  },
  {
   "cell_type": "code",
   "execution_count": null,
   "id": "007cdfd0",
   "metadata": {
    "vscode": {
     "languageId": "sql"
    }
   },
   "outputs": [],
   "source": [
    "%%sql\n",
    "-- Create OrderSalesTerm table in retail schema\n",
    "CREATE TABLE retail.OrderSalesTerm (\n",
    "    OrderId STRING,\n",
    "    SalesTermId STRING,\n",
    "    OrderSalesTermNote STRING\n",
    ")\n",
    "USING DELTA\n",
    "LOCATION '/lakehouse/default/Tables/retail/OrderSalesTerm'"
   ]
  },
  {
   "cell_type": "markdown",
   "id": "e0f8c208",
   "metadata": {},
   "source": [
    "40. Create Table OrderStatus"
   ]
  },
  {
   "cell_type": "code",
   "execution_count": null,
   "id": "f73b4c64",
   "metadata": {
    "vscode": {
     "languageId": "sql"
    }
   },
   "outputs": [],
   "source": [
    "CREATE TABLE retail.OrderStatus (\n",
    "    OrderId NVARCHAR(100) NULL,\n",
    "    OrderStatusStartTimestamp DATETIME2 NOT NULL,\n",
    "    OrderStatusEndTimestamp DATETIME2 NULL,\n",
    "    OrderStatusTypeId NVARCHAR(100) NULL\n",
    ")\n",
    "USING DELTA\n",
    "LOCATION '/lakehouse/default/Tables/retail/OrderStatus';"
   ]
  },
  {
   "cell_type": "markdown",
   "id": "5ffba0cb",
   "metadata": {},
   "source": [
    "41. Create Table OrderStatusType"
   ]
  },
  {
   "cell_type": "code",
   "execution_count": null,
   "id": "ad629fb3",
   "metadata": {
    "vscode": {
     "languageId": "sql"
    }
   },
   "outputs": [],
   "source": [
    "%%sql\n",
    "-- Create OrderStatusType table in retail schema\n",
    "CREATE TABLE retail.OrderStatusType (\n",
    "    OrderStatusTypeId STRING NOT NULL,\n",
    "    OrderStatusTypeName STRING,\n",
    "    OrderStatusTypeDescription STRING\n",
    ")\n",
    "USING DELTA\n",
    "LOCATION '/lakehouse/default/Tables/retail/OrderStatusType'"
   ]
  },
  {
   "cell_type": "markdown",
   "id": "8edcb40e",
   "metadata": {},
   "source": [
    "42. Create Table OrderType"
   ]
  },
  {
   "cell_type": "code",
   "execution_count": null,
   "id": "04aa7675",
   "metadata": {
    "vscode": {
     "languageId": "sql"
    }
   },
   "outputs": [],
   "source": [
    "%%sql\n",
    "-- Create OrderType table in retail schema\n",
    "CREATE TABLE retail.OrderType (\n",
    "    OrderTypeId STRING NOT NULL,\n",
    "    OrderTypeName STRING,\n",
    "    OrderTypeDescription STRING\n",
    ")\n",
    "USING DELTA\n",
    "LOCATION '/lakehouse/default/Tables/retail/OrderType'"
   ]
  },
  {
   "cell_type": "markdown",
   "id": "0a60f825",
   "metadata": {},
   "source": [
    "43. Create Table Party"
   ]
  },
  {
   "cell_type": "code",
   "execution_count": null,
   "id": "afc24775",
   "metadata": {
    "vscode": {
     "languageId": "sql"
    }
   },
   "outputs": [],
   "source": [
    "CREATE TABLE retail.Party (\n",
    "    PartyId NVARCHAR(100) NOT NULL,\n",
    "    PartyName NVARCHAR(255) NULL,\n",
    "    PartyTypeId NVARCHAR(100) NULL,\n",
    "    GlobalLocationNumber DECIMAL(13,1) NULL\n",
    ")\n",
    "USING DELTA\n",
    "LOCATION '/lakehouse/default/Tables/retail/Party';"
   ]
  },
  {
   "cell_type": "markdown",
   "id": "95437fe0",
   "metadata": {},
   "source": [
    "44. Create Table PartyLocation"
   ]
  },
  {
   "cell_type": "code",
   "execution_count": null,
   "id": "60c8c0b1",
   "metadata": {
    "vscode": {
     "languageId": "sql"
    }
   },
   "outputs": [],
   "source": [
    "%%sql\n",
    "-- Create PartyLocation table in retail schema\n",
    "CREATE TABLE retail.PartyLocation (\n",
    "    PartyId STRING,\n",
    "    LocationTypeId STRING,\n",
    "    LocationId STRING,\n",
    "    PeriodStartTimestamp TIMESTAMP NOT NULL,\n",
    "    PeriodEndTimestamp TIMESTAMP,\n",
    "    GlobalLocationNumber DECIMAL(13,1),\n",
    "    PreferenceId STRING,\n",
    "    PartyLocationNote STRING\n",
    ")\n",
    "USING DELTA\n",
    "LOCATION '/lakehouse/default/Tables/retail/PartyLocation'"
   ]
  },
  {
   "cell_type": "markdown",
   "id": "1c170059",
   "metadata": {},
   "source": [
    "45. Create Table PartyTelephoneNumber"
   ]
  },
  {
   "cell_type": "code",
   "execution_count": null,
   "id": "1f275217",
   "metadata": {
    "vscode": {
     "languageId": "sql"
    }
   },
   "outputs": [],
   "source": [
    "CREATE TABLE retail.PartyTelephoneNumber (\n",
    "    PartyId NVARCHAR(100) NULL,\n",
    "    TelephoneNumberTypeId NVARCHAR(100) NULL,\n",
    "    TelephoneNumber DECIMAL(15,1) NOT NULL,\n",
    "    PeriodStartTimestamp DATETIME2 NOT NULL,\n",
    "    PeriodEndTimestamp DATETIME2 NULL,\n",
    "    PreferenceId NVARCHAR(100) NULL,\n",
    "    TelephoneNumberNote NVARCHAR(1000) NULL,\n",
    "    LocationId NVARCHAR(100) NULL,\n",
    "    TextCapableIndicator BIT NULL\n",
    ")\n",
    "USING DELTA\n",
    "LOCATION '/lakehouse/default/Tables/retail/PartyTelephoneNumber';"
   ]
  },
  {
   "cell_type": "markdown",
   "id": "6ab38db6",
   "metadata": {},
   "source": [
    "46. Create Table Retailer"
   ]
  },
  {
   "cell_type": "code",
   "execution_count": null,
   "id": "78966b5c",
   "metadata": {
    "vscode": {
     "languageId": "sql"
    }
   },
   "outputs": [],
   "source": [
    "%%sql\n",
    "-- Create Retailer table in retail schema\n",
    "CREATE TABLE retail.Retailer (\n",
    "    RetailerId STRING NOT NULL,\n",
    "    RetailerName STRING,\n",
    "    LocationId STRING,\n",
    "    RetailerTelephoneNumber DECIMAL(15,1),\n",
    "    RetailerFaxNumber DECIMAL(15,1),\n",
    "    RetailerEmailAddress STRING,\n",
    "    PartyId STRING,\n",
    "    RetailerNote STRING\n",
    ")\n",
    "USING DELTA\n",
    "LOCATION '/lakehouse/default/Tables/retail/Retailer'"
   ]
  },
  {
   "cell_type": "markdown",
   "id": "323abb5e",
   "metadata": {},
   "source": [
    "47. Create Table SalesOrderCondition"
   ]
  },
  {
   "cell_type": "code",
   "execution_count": null,
   "id": "1216a884",
   "metadata": {
    "vscode": {
     "languageId": "sql"
    }
   },
   "outputs": [],
   "source": [
    "%%sql\n",
    "-- Create SalesOrderCondition table in retail schema\n",
    "CREATE TABLE retail.SalesOrderCondition (\n",
    "    OrderId STRING,\n",
    "    OrderConditionId STRING,\n",
    "    SalesOrderConditionNote STRING\n",
    ")\n",
    "USING DELTA\n",
    "LOCATION '/lakehouse/default/Tables/retail/SalesOrderCondition'"
   ]
  },
  {
   "cell_type": "markdown",
   "id": "f80f196b",
   "metadata": {},
   "source": [
    "48. Create Table UsaLocation"
   ]
  },
  {
   "cell_type": "code",
   "execution_count": null,
   "id": "5ece726a",
   "metadata": {
    "vscode": {
     "languageId": "sql"
    }
   },
   "outputs": [],
   "source": [
    "%%sql\n",
    "-- Create UsaLocation table in retail schema\n",
    "CREATE TABLE retail.UsaLocation (\n",
    "    LocationId STRING,\n",
    "    AddressLine1 STRING NOT NULL,\n",
    "    AddressLine2 STRING NOT NULL,\n",
    "    City STRING,\n",
    "    StateId STRING,\n",
    "    ZipCode DECIMAL(18,2),\n",
    "    CensusDivisionId STRING,\n",
    "    CensusRegionId STRING,\n",
    "    CensusTrackBlockNumberingAreaId STRING,\n",
    "    BlockGroupId STRING,\n",
    "    BlockId STRING,\n",
    "    FipsCode STRING,\n",
    "    CongressionalDistrictId STRING,\n",
    "    TrafficAnalysisZoneId STRING,\n",
    "    UrbanizedAreaId STRING,\n",
    "    StateLegislativeDistrictId STRING,\n",
    "    SchoolDistrictId STRING,\n",
    "    VotingDistrictId STRING,\n",
    "    CountyCode STRING\n",
    ")\n",
    "USING DELTA\n",
    "LOCATION '/lakehouse/default/Tables/retail/UsaLocation'"
   ]
  },
  {
   "cell_type": "markdown",
   "id": "1408a342",
   "metadata": {},
   "source": [
    "49. Create Table UsLocation"
   ]
  },
  {
   "cell_type": "code",
   "execution_count": null,
   "id": "ba879cae",
   "metadata": {
    "vscode": {
     "languageId": "sql"
    }
   },
   "outputs": [],
   "source": [
    "%%sql\n",
    "-- Create UsLocation table in retail schema\n",
    "CREATE TABLE retail.UsLocation (\n",
    "    LocationId STRING NOT NULL,\n",
    "    LocationName STRING,\n",
    "    CountyCode STRING\n",
    ")\n",
    "USING DELTA\n",
    "LOCATION '/lakehouse/default/Tables/retail/UsLocation'"
   ]
  }
 ],
 "metadata": {
  "language_info": {
   "name": "python"
  }
 },
 "nbformat": 4,
 "nbformat_minor": 5
}
